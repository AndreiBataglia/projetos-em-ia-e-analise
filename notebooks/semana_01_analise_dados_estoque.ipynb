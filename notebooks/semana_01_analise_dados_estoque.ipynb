{
 "cells": [
  {
   "cell_type": "code",
   "execution_count": null,
   "id": "ced8e390",
   "metadata": {},
   "outputs": [],
   "source": [
    "#📦 Nova proposta: Previsão de Demanda e Análise de Estoque\n",
    "#🏭 Cenário simulado:\n",
    "#Uma rede de mercados quer entender como a demanda por produtos varia ao longo dos meses, prever futuras reposições e evitar excesso ou falta de estoque.\n",
    "#🔍 Objetivos da empresa:\n",
    "#Identificar produtos com comportamento de consumo instável\n",
    "#Verificar sazonalidade de demanda por mês ou estação\n",
    "#Relacionar vendas com volume de estoque\n",
    "#Avaliar impacto de promoções nos níveis de venda\n",
    "#Sugerir estratégias baseadas em dados para otimizar estoque"
   ]
  },
  {
   "cell_type": "code",
   "execution_count": 1,
   "id": "78c3b84f",
   "metadata": {},
   "outputs": [
    {
     "name": "stdout",
     "output_type": "stream",
     "text": [
      "<class 'pandas.core.frame.DataFrame'>\n",
      "RangeIndex: 3650 entries, 0 to 3649\n",
      "Data columns (total 7 columns):\n",
      " #   Column          Non-Null Count  Dtype  \n",
      "---  ------          --------------  -----  \n",
      " 0   data            3650 non-null   object \n",
      " 1   produto_id      3650 non-null   object \n",
      " 2   categoria       3650 non-null   object \n",
      " 3   vendas_qtd      3650 non-null   int64  \n",
      " 4   estoque_qtd     3650 non-null   int64  \n",
      " 5   preco_unitario  3650 non-null   float64\n",
      " 6   promocao        3650 non-null   int64  \n",
      "dtypes: float64(1), int64(3), object(3)\n",
      "memory usage: 199.7+ KB\n"
     ]
    }
   ],
   "source": [
    "import pandas as pd\n",
    "import matplotlib.pyplot as plt\n",
    "import seaborn as sns\n",
    "\n",
    "df = pd.read_csv(\"D:/Projetos/projetos-em-ia-e-analise/dados/dados_estoque_simulado.csv\")\n",
    "\n",
    "df.info()"
   ]
  },
  {
   "cell_type": "code",
   "execution_count": 2,
   "id": "c1124320",
   "metadata": {},
   "outputs": [
    {
     "data": {
      "text/html": [
       "<div>\n",
       "<style scoped>\n",
       "    .dataframe tbody tr th:only-of-type {\n",
       "        vertical-align: middle;\n",
       "    }\n",
       "\n",
       "    .dataframe tbody tr th {\n",
       "        vertical-align: top;\n",
       "    }\n",
       "\n",
       "    .dataframe thead th {\n",
       "        text-align: right;\n",
       "    }\n",
       "</style>\n",
       "<table border=\"1\" class=\"dataframe\">\n",
       "  <thead>\n",
       "    <tr style=\"text-align: right;\">\n",
       "      <th></th>\n",
       "      <th>data</th>\n",
       "      <th>produto_id</th>\n",
       "      <th>categoria</th>\n",
       "      <th>vendas_qtd</th>\n",
       "      <th>estoque_qtd</th>\n",
       "      <th>preco_unitario</th>\n",
       "      <th>promocao</th>\n",
       "    </tr>\n",
       "  </thead>\n",
       "  <tbody>\n",
       "    <tr>\n",
       "      <th>0</th>\n",
       "      <td>2023-01-01</td>\n",
       "      <td>PROD_1</td>\n",
       "      <td>Alimento</td>\n",
       "      <td>23</td>\n",
       "      <td>152</td>\n",
       "      <td>11.55</td>\n",
       "      <td>1</td>\n",
       "    </tr>\n",
       "    <tr>\n",
       "      <th>1</th>\n",
       "      <td>2023-01-01</td>\n",
       "      <td>PROD_2</td>\n",
       "      <td>Alimento</td>\n",
       "      <td>10</td>\n",
       "      <td>153</td>\n",
       "      <td>13.09</td>\n",
       "      <td>0</td>\n",
       "    </tr>\n",
       "    <tr>\n",
       "      <th>2</th>\n",
       "      <td>2023-01-01</td>\n",
       "      <td>PROD_3</td>\n",
       "      <td>Higiene</td>\n",
       "      <td>7</td>\n",
       "      <td>70</td>\n",
       "      <td>18.72</td>\n",
       "      <td>0</td>\n",
       "    </tr>\n",
       "    <tr>\n",
       "      <th>3</th>\n",
       "      <td>2023-01-01</td>\n",
       "      <td>PROD_4</td>\n",
       "      <td>Alimento</td>\n",
       "      <td>10</td>\n",
       "      <td>64</td>\n",
       "      <td>16.78</td>\n",
       "      <td>0</td>\n",
       "    </tr>\n",
       "    <tr>\n",
       "      <th>4</th>\n",
       "      <td>2023-01-01</td>\n",
       "      <td>PROD_5</td>\n",
       "      <td>Bebida</td>\n",
       "      <td>7</td>\n",
       "      <td>113</td>\n",
       "      <td>13.31</td>\n",
       "      <td>0</td>\n",
       "    </tr>\n",
       "  </tbody>\n",
       "</table>\n",
       "</div>"
      ],
      "text/plain": [
       "         data produto_id categoria  vendas_qtd  estoque_qtd  preco_unitario  \\\n",
       "0  2023-01-01     PROD_1  Alimento          23          152           11.55   \n",
       "1  2023-01-01     PROD_2  Alimento          10          153           13.09   \n",
       "2  2023-01-01     PROD_3   Higiene           7           70           18.72   \n",
       "3  2023-01-01     PROD_4  Alimento          10           64           16.78   \n",
       "4  2023-01-01     PROD_5    Bebida           7          113           13.31   \n",
       "\n",
       "   promocao  \n",
       "0         1  \n",
       "1         0  \n",
       "2         0  \n",
       "3         0  \n",
       "4         0  "
      ]
     },
     "execution_count": 2,
     "metadata": {},
     "output_type": "execute_result"
    }
   ],
   "source": [
    "df.head()"
   ]
  },
  {
   "cell_type": "code",
   "execution_count": 4,
   "id": "4cb84759",
   "metadata": {},
   "outputs": [
    {
     "data": {
      "text/plain": [
       "data              0\n",
       "produto_id        0\n",
       "categoria         0\n",
       "vendas_qtd        0\n",
       "estoque_qtd       0\n",
       "preco_unitario    0\n",
       "promocao          0\n",
       "dtype: int64"
      ]
     },
     "execution_count": 4,
     "metadata": {},
     "output_type": "execute_result"
    }
   ],
   "source": [
    "df.isnull().sum()"
   ]
  },
  {
   "cell_type": "code",
   "execution_count": 5,
   "id": "06b51a21",
   "metadata": {},
   "outputs": [
    {
     "data": {
      "text/plain": [
       "np.int64(0)"
      ]
     },
     "execution_count": 5,
     "metadata": {},
     "output_type": "execute_result"
    }
   ],
   "source": [
    "df.duplicated().sum()"
   ]
  },
  {
   "cell_type": "code",
   "execution_count": 6,
   "id": "017c5c67",
   "metadata": {},
   "outputs": [
    {
     "data": {
      "text/html": [
       "<div>\n",
       "<style scoped>\n",
       "    .dataframe tbody tr th:only-of-type {\n",
       "        vertical-align: middle;\n",
       "    }\n",
       "\n",
       "    .dataframe tbody tr th {\n",
       "        vertical-align: top;\n",
       "    }\n",
       "\n",
       "    .dataframe thead th {\n",
       "        text-align: right;\n",
       "    }\n",
       "</style>\n",
       "<table border=\"1\" class=\"dataframe\">\n",
       "  <thead>\n",
       "    <tr style=\"text-align: right;\">\n",
       "      <th></th>\n",
       "      <th>vendas_qtd</th>\n",
       "      <th>estoque_qtd</th>\n",
       "      <th>preco_unitario</th>\n",
       "      <th>promocao</th>\n",
       "    </tr>\n",
       "  </thead>\n",
       "  <tbody>\n",
       "    <tr>\n",
       "      <th>count</th>\n",
       "      <td>3650.000000</td>\n",
       "      <td>3650.000000</td>\n",
       "      <td>3650.000000</td>\n",
       "      <td>3650.000000</td>\n",
       "    </tr>\n",
       "    <tr>\n",
       "      <th>mean</th>\n",
       "      <td>11.926027</td>\n",
       "      <td>124.039726</td>\n",
       "      <td>14.165205</td>\n",
       "      <td>0.189315</td>\n",
       "    </tr>\n",
       "    <tr>\n",
       "      <th>std</th>\n",
       "      <td>5.263410</td>\n",
       "      <td>43.433160</td>\n",
       "      <td>6.192294</td>\n",
       "      <td>0.391812</td>\n",
       "    </tr>\n",
       "    <tr>\n",
       "      <th>min</th>\n",
       "      <td>2.000000</td>\n",
       "      <td>50.000000</td>\n",
       "      <td>3.510000</td>\n",
       "      <td>0.000000</td>\n",
       "    </tr>\n",
       "    <tr>\n",
       "      <th>25%</th>\n",
       "      <td>8.000000</td>\n",
       "      <td>86.000000</td>\n",
       "      <td>8.730000</td>\n",
       "      <td>0.000000</td>\n",
       "    </tr>\n",
       "    <tr>\n",
       "      <th>50%</th>\n",
       "      <td>11.000000</td>\n",
       "      <td>123.000000</td>\n",
       "      <td>14.185000</td>\n",
       "      <td>0.000000</td>\n",
       "    </tr>\n",
       "    <tr>\n",
       "      <th>75%</th>\n",
       "      <td>14.000000</td>\n",
       "      <td>162.000000</td>\n",
       "      <td>19.410000</td>\n",
       "      <td>0.000000</td>\n",
       "    </tr>\n",
       "    <tr>\n",
       "      <th>max</th>\n",
       "      <td>35.000000</td>\n",
       "      <td>199.000000</td>\n",
       "      <td>24.990000</td>\n",
       "      <td>1.000000</td>\n",
       "    </tr>\n",
       "  </tbody>\n",
       "</table>\n",
       "</div>"
      ],
      "text/plain": [
       "        vendas_qtd  estoque_qtd  preco_unitario     promocao\n",
       "count  3650.000000  3650.000000     3650.000000  3650.000000\n",
       "mean     11.926027   124.039726       14.165205     0.189315\n",
       "std       5.263410    43.433160        6.192294     0.391812\n",
       "min       2.000000    50.000000        3.510000     0.000000\n",
       "25%       8.000000    86.000000        8.730000     0.000000\n",
       "50%      11.000000   123.000000       14.185000     0.000000\n",
       "75%      14.000000   162.000000       19.410000     0.000000\n",
       "max      35.000000   199.000000       24.990000     1.000000"
      ]
     },
     "execution_count": 6,
     "metadata": {},
     "output_type": "execute_result"
    }
   ],
   "source": [
    "df.describe()"
   ]
  },
  {
   "cell_type": "code",
   "execution_count": 14,
   "id": "fba5d49e",
   "metadata": {},
   "outputs": [
    {
     "data": {
      "text/html": [
       "<div>\n",
       "<style scoped>\n",
       "    .dataframe tbody tr th:only-of-type {\n",
       "        vertical-align: middle;\n",
       "    }\n",
       "\n",
       "    .dataframe tbody tr th {\n",
       "        vertical-align: top;\n",
       "    }\n",
       "\n",
       "    .dataframe thead tr th {\n",
       "        text-align: left;\n",
       "    }\n",
       "\n",
       "    .dataframe thead tr:last-of-type th {\n",
       "        text-align: right;\n",
       "    }\n",
       "</style>\n",
       "<table border=\"1\" class=\"dataframe\">\n",
       "  <thead>\n",
       "    <tr>\n",
       "      <th></th>\n",
       "      <th>vendas_qtd</th>\n",
       "    </tr>\n",
       "    <tr>\n",
       "      <th></th>\n",
       "      <th>std</th>\n",
       "    </tr>\n",
       "    <tr>\n",
       "      <th>produto_id</th>\n",
       "      <th></th>\n",
       "    </tr>\n",
       "  </thead>\n",
       "  <tbody>\n",
       "    <tr>\n",
       "      <th>PROD_1</th>\n",
       "      <td>4.994499</td>\n",
       "    </tr>\n",
       "    <tr>\n",
       "      <th>PROD_10</th>\n",
       "      <td>4.873962</td>\n",
       "    </tr>\n",
       "    <tr>\n",
       "      <th>PROD_2</th>\n",
       "      <td>5.240845</td>\n",
       "    </tr>\n",
       "    <tr>\n",
       "      <th>PROD_3</th>\n",
       "      <td>5.809592</td>\n",
       "    </tr>\n",
       "    <tr>\n",
       "      <th>PROD_4</th>\n",
       "      <td>5.248051</td>\n",
       "    </tr>\n",
       "    <tr>\n",
       "      <th>PROD_5</th>\n",
       "      <td>5.771093</td>\n",
       "    </tr>\n",
       "    <tr>\n",
       "      <th>PROD_6</th>\n",
       "      <td>5.063696</td>\n",
       "    </tr>\n",
       "    <tr>\n",
       "      <th>PROD_7</th>\n",
       "      <td>5.233783</td>\n",
       "    </tr>\n",
       "    <tr>\n",
       "      <th>PROD_8</th>\n",
       "      <td>5.180954</td>\n",
       "    </tr>\n",
       "    <tr>\n",
       "      <th>PROD_9</th>\n",
       "      <td>5.098577</td>\n",
       "    </tr>\n",
       "  </tbody>\n",
       "</table>\n",
       "</div>"
      ],
      "text/plain": [
       "           vendas_qtd\n",
       "                  std\n",
       "produto_id           \n",
       "PROD_1       4.994499\n",
       "PROD_10      4.873962\n",
       "PROD_2       5.240845\n",
       "PROD_3       5.809592\n",
       "PROD_4       5.248051\n",
       "PROD_5       5.771093\n",
       "PROD_6       5.063696\n",
       "PROD_7       5.233783\n",
       "PROD_8       5.180954\n",
       "PROD_9       5.098577"
      ]
     },
     "execution_count": 14,
     "metadata": {},
     "output_type": "execute_result"
    }
   ],
   "source": [
    "df.groupby(\"produto_id\")[[\"vendas_qtd\"]].agg([\"std\"]) #Desvio padrão da primeira questão"
   ]
  },
  {
   "cell_type": "code",
   "execution_count": 20,
   "id": "653e217f",
   "metadata": {},
   "outputs": [
    {
     "data": {
      "image/png": "[encoded data removed]",
      "text/plain": [
       "<Figure size 1000x600 with 1 Axes>"
      ]
     },
     "metadata": {},
     "output_type": "display_data"
    }
   ],
   "source": [
    "# Agrupar e calcular desvio padrão\n",
    "std_por_produto = df.groupby(\"produto_id\")[\"vendas_qtd\"].std().reset_index()\n",
    "\n",
    "# Renomear coluna para facilitar o gráfico\n",
    "std_por_produto.columns = [\"produto_id\", \"std_vendas\"]\n",
    "\n",
    "plt.figure(figsize=(10,6))\n",
    "sns.barplot(x=\"produto_id\", y=\"std_vendas\", data=std_por_produto)\n",
    "plt.title(\"Desvio Padrão de Vendas por Produto\")\n",
    "plt.ylabel(\"Desvio Padrão (vendas_qtd)\")\n",
    "plt.xlabel(\"Produto\")\n",
    "plt.tight_layout()\n",
    "plt.show()"
   ]
  },
  {
   "cell_type": "code",
   "execution_count": 35,
   "id": "edc9cf02",
   "metadata": {},
   "outputs": [
    {
     "data": {
      "image/png": "[encoded data removed]",
      "text/plain": [
       "<Figure size 1000x600 with 1 Axes>"
      ]
     },
     "metadata": {},
     "output_type": "display_data"
    }
   ],
   "source": [
    "df[\"data\"] = pd.to_datetime(df[\"data\"]) #converter coluna object em data\n",
    "df[\"mes\"] = df[\"data\"].dt.month #extrair as datas para uma nova coluna\n",
    "vendas_mensais = df.groupby(\"mes\")[\"vendas_qtd\"].mean().reset_index() #agrupar as colunas na variável resetando o index\n",
    "\n",
    "plt.figure(figsize=(10,6))\n",
    "sns.lineplot(data=vendas_mensais, x=\"mes\", y=\"vendas_qtd\", marker=\"o\")\n",
    "plt.title(\"Média de Vendas por Mês\")\n",
    "plt.xlabel(\"Mês\")\n",
    "plt.ylabel(\"Vendas Médias (unidades)\")\n",
    "plt.xticks(range(1, 13))\n",
    "plt.tight_layout()\n",
    "plt.show()"
   ]
  },
  {
   "cell_type": "code",
   "execution_count": null,
   "id": "42d76402",
   "metadata": {},
   "outputs": [],
   "source": []
  }
 ],
 "metadata": {
  "kernelspec": {
   "display_name": ".venv",
   "language": "python",
   "name": "python3"
  },
  "language_info": {
   "codemirror_mode": {
    "name": "ipython",
    "version": 3
   },
   "file_extension": ".py",
   "mimetype": "text/x-python",
   "name": "python",
   "nbconvert_exporter": "python",
   "pygments_lexer": "ipython3",
   "version": "3.12.9"
  }
 },
 "nbformat": 4,
 "nbformat_minor": 5
}
